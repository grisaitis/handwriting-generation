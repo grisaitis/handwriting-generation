{
 "cells": [
  {
   "cell_type": "code",
   "execution_count": 1,
   "metadata": {},
   "outputs": [
    {
     "name": "stdout",
     "output_type": "stream",
     "text": [
      "import numpy as np\r\n",
      "import tensorflow as tf\r\n",
      "\r\n",
      "import time\r\n",
      "import os\r\n",
      "import pickle\r\n",
      "import argparse\r\n",
      "\r\n",
      "from utils import *\r\n",
      "from model import Model\r\n",
      "import random\r\n",
      "\r\n",
      "\r\n",
      "import svgwrite\r\n",
      "from IPython.display import SVG, display\r\n",
      "\r\n",
      "# main code (not in a main function since I want to run this script in IPython as well).\r\n",
      "\r\n",
      "parser = argparse.ArgumentParser()\r\n",
      "parser.add_argument('--filename', type=str, default='sample',\r\n",
      "                   help='filename of .svg file to output, without .svg')\r\n",
      "parser.add_argument('--sample_length', type=int, default=800,\r\n",
      "                   help='number of strokes to sample')\r\n",
      "parser.add_argument('--scale_factor', type=int, default=10,\r\n",
      "                   help='factor to scale down by for svg output.  smaller means bigger output')\r\n",
      "parser.add_argument('--model_dir', type=str, default='save',\r\n",
      "                   help='directory to save model to')\r\n",
      "parser.add_argument('--freeze_graph', dest='freeze_graph', action='store_true',\r\n",
      "                   help='if true, freeze (replace variables with consts), prune (for inference) and save graph')\r\n",
      "\t\r\n",
      "sample_args = parser.parse_args()\r\n",
      "\r\n",
      "with open(os.path.join(sample_args.model_dir, 'config.pkl'), 'rb') as f:\r\n",
      "    saved_args = pickle.load(f)\r\n",
      "\r\n",
      "model = Model(saved_args, True)\r\n",
      "sess = tf.InteractiveSession()\r\n",
      "#saver = tf.train.Saver(tf.all_variables())\r\n",
      "saver = tf.train.Saver()\r\n",
      "\r\n",
      "ckpt = tf.train.get_checkpoint_state(sample_args.model_dir)\r\n",
      "print(\"loading model: \", ckpt.model_checkpoint_path)\r\n",
      "\r\n",
      "saver.restore(sess, ckpt.model_checkpoint_path)\r\n",
      "\r\n",
      "def sample_stroke():\r\n",
      "  [strokes, params] = model.sample(sess, sample_args.sample_length)\r\n",
      "  draw_strokes(strokes, factor=sample_args.scale_factor, svg_filename = sample_args.filename+'.normal.svg')\r\n",
      "  draw_strokes_random_color(strokes, factor=sample_args.scale_factor, svg_filename = sample_args.filename+'.color.svg')\r\n",
      "  draw_strokes_random_color(strokes, factor=sample_args.scale_factor, per_stroke_mode = False, svg_filename = sample_args.filename+'.multi_color.svg')\r\n"
     ]
    }
   ],
   "source": [
    "%run sample.py --model_dir"
   ]
  },
  {
   "cell_type": "code",
   "execution_count": null,
   "metadata": {},
   "outputs": [],
   "source": []
  }
 ],
 "metadata": {
  "kernelspec": {
   "display_name": "Python 3",
   "language": "python",
   "name": "python3"
  },
  "language_info": {
   "codemirror_mode": {
    "name": "ipython",
    "version": 3
   },
   "file_extension": ".py",
   "mimetype": "text/x-python",
   "name": "python",
   "nbconvert_exporter": "python",
   "pygments_lexer": "ipython3",
   "version": "3.5.2"
  }
 },
 "nbformat": 4,
 "nbformat_minor": 2
}
